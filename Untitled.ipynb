{
 "cells": [
  {
   "cell_type": "code",
   "execution_count": 99,
   "id": "8524fb73-bd9e-446b-9dd6-cb666eea98fc",
   "metadata": {},
   "outputs": [],
   "source": [
    "import pandas as pd\n",
    "import matplotlib.pyplot as plt\n",
    "import seaborn as sns\n",
    "import numpy as np\n",
    "\n",
    "%matplotlib inline"
   ]
  },
  {
   "cell_type": "code",
   "execution_count": 100,
   "id": "149b0065-58ab-4de4-aafc-0aeb3d96058b",
   "metadata": {},
   "outputs": [
    {
     "data": {
      "text/html": [
       "<div>\n",
       "<style scoped>\n",
       "    .dataframe tbody tr th:only-of-type {\n",
       "        vertical-align: middle;\n",
       "    }\n",
       "\n",
       "    .dataframe tbody tr th {\n",
       "        vertical-align: top;\n",
       "    }\n",
       "\n",
       "    .dataframe thead th {\n",
       "        text-align: right;\n",
       "    }\n",
       "</style>\n",
       "<table border=\"1\" class=\"dataframe\">\n",
       "  <thead>\n",
       "    <tr style=\"text-align: right;\">\n",
       "      <th></th>\n",
       "      <th>uid</th>\n",
       "      <th>asin</th>\n",
       "      <th>title</th>\n",
       "      <th>stars</th>\n",
       "      <th>reviews</th>\n",
       "      <th>price</th>\n",
       "      <th>isBestSeller</th>\n",
       "      <th>boughtInLastMonth</th>\n",
       "      <th>category</th>\n",
       "    </tr>\n",
       "  </thead>\n",
       "  <tbody>\n",
       "    <tr>\n",
       "      <th>0</th>\n",
       "      <td>1</td>\n",
       "      <td>B09B96TG33</td>\n",
       "      <td>Echo Dot (5th generation, 2022 release) | Big ...</td>\n",
       "      <td>4.7</td>\n",
       "      <td>15308</td>\n",
       "      <td>21.99</td>\n",
       "      <td>False</td>\n",
       "      <td>0</td>\n",
       "      <td>Hi-Fi Speakers</td>\n",
       "    </tr>\n",
       "    <tr>\n",
       "      <th>1</th>\n",
       "      <td>2</td>\n",
       "      <td>B01HTH3C8S</td>\n",
       "      <td>Anker Soundcore mini, Super-Portable Bluetooth...</td>\n",
       "      <td>4.7</td>\n",
       "      <td>98099</td>\n",
       "      <td>23.99</td>\n",
       "      <td>True</td>\n",
       "      <td>0</td>\n",
       "      <td>Hi-Fi Speakers</td>\n",
       "    </tr>\n",
       "    <tr>\n",
       "      <th>2</th>\n",
       "      <td>3</td>\n",
       "      <td>B09B8YWXDF</td>\n",
       "      <td>Echo Dot (5th generation, 2022 release) | Big ...</td>\n",
       "      <td>4.7</td>\n",
       "      <td>15308</td>\n",
       "      <td>21.99</td>\n",
       "      <td>False</td>\n",
       "      <td>0</td>\n",
       "      <td>Hi-Fi Speakers</td>\n",
       "    </tr>\n",
       "    <tr>\n",
       "      <th>3</th>\n",
       "      <td>4</td>\n",
       "      <td>B09B8T5VGV</td>\n",
       "      <td>Echo Dot with clock (5th generation, 2022 rele...</td>\n",
       "      <td>4.7</td>\n",
       "      <td>7205</td>\n",
       "      <td>31.99</td>\n",
       "      <td>False</td>\n",
       "      <td>0</td>\n",
       "      <td>Hi-Fi Speakers</td>\n",
       "    </tr>\n",
       "    <tr>\n",
       "      <th>4</th>\n",
       "      <td>5</td>\n",
       "      <td>B09WX6QD65</td>\n",
       "      <td>Introducing Echo Pop | Full sound compact Wi-F...</td>\n",
       "      <td>4.6</td>\n",
       "      <td>1881</td>\n",
       "      <td>17.99</td>\n",
       "      <td>False</td>\n",
       "      <td>0</td>\n",
       "      <td>Hi-Fi Speakers</td>\n",
       "    </tr>\n",
       "    <tr>\n",
       "      <th>...</th>\n",
       "      <td>...</td>\n",
       "      <td>...</td>\n",
       "      <td>...</td>\n",
       "      <td>...</td>\n",
       "      <td>...</td>\n",
       "      <td>...</td>\n",
       "      <td>...</td>\n",
       "      <td>...</td>\n",
       "      <td>...</td>\n",
       "    </tr>\n",
       "    <tr>\n",
       "      <th>2443646</th>\n",
       "      <td>2828589</td>\n",
       "      <td>B0CHSD7P2Q</td>\n",
       "      <td>Motorbike Armour, Motorbike Clothing, Cycling ...</td>\n",
       "      <td>0.0</td>\n",
       "      <td>0</td>\n",
       "      <td>22.34</td>\n",
       "      <td>False</td>\n",
       "      <td>0</td>\n",
       "      <td>Motorbike Clothing</td>\n",
       "    </tr>\n",
       "    <tr>\n",
       "      <th>2443647</th>\n",
       "      <td>2828590</td>\n",
       "      <td>B0B7B8FNBQ</td>\n",
       "      <td>PROFIRST Waterproof Motorcycle 2 Piece Ladies ...</td>\n",
       "      <td>0.0</td>\n",
       "      <td>0</td>\n",
       "      <td>97.99</td>\n",
       "      <td>False</td>\n",
       "      <td>0</td>\n",
       "      <td>Motorbike Clothing</td>\n",
       "    </tr>\n",
       "    <tr>\n",
       "      <th>2443648</th>\n",
       "      <td>2828591</td>\n",
       "      <td>B0BD5FL5FB</td>\n",
       "      <td>Men’s Motorcycle Motorbike Biker Trousers Kevl...</td>\n",
       "      <td>0.0</td>\n",
       "      <td>0</td>\n",
       "      <td>52.99</td>\n",
       "      <td>False</td>\n",
       "      <td>0</td>\n",
       "      <td>Motorbike Clothing</td>\n",
       "    </tr>\n",
       "    <tr>\n",
       "      <th>2443649</th>\n",
       "      <td>2828592</td>\n",
       "      <td>B008OYLL4I</td>\n",
       "      <td>Texpeed Mens Motorcycle Motorbike Biker Trouse...</td>\n",
       "      <td>4.3</td>\n",
       "      <td>404</td>\n",
       "      <td>79.99</td>\n",
       "      <td>False</td>\n",
       "      <td>0</td>\n",
       "      <td>Motorbike Clothing</td>\n",
       "    </tr>\n",
       "    <tr>\n",
       "      <th>2443650</th>\n",
       "      <td>2828593</td>\n",
       "      <td>B08P3W9B3T</td>\n",
       "      <td>RIDEX CJ223 Motorcycle Motorbike Jacket Armour...</td>\n",
       "      <td>4.5</td>\n",
       "      <td>34</td>\n",
       "      <td>53.99</td>\n",
       "      <td>False</td>\n",
       "      <td>0</td>\n",
       "      <td>Motorbike Clothing</td>\n",
       "    </tr>\n",
       "  </tbody>\n",
       "</table>\n",
       "<p>2443651 rows × 9 columns</p>\n",
       "</div>"
      ],
      "text/plain": [
       "             uid        asin  \\\n",
       "0              1  B09B96TG33   \n",
       "1              2  B01HTH3C8S   \n",
       "2              3  B09B8YWXDF   \n",
       "3              4  B09B8T5VGV   \n",
       "4              5  B09WX6QD65   \n",
       "...          ...         ...   \n",
       "2443646  2828589  B0CHSD7P2Q   \n",
       "2443647  2828590  B0B7B8FNBQ   \n",
       "2443648  2828591  B0BD5FL5FB   \n",
       "2443649  2828592  B008OYLL4I   \n",
       "2443650  2828593  B08P3W9B3T   \n",
       "\n",
       "                                                     title  stars  reviews  \\\n",
       "0        Echo Dot (5th generation, 2022 release) | Big ...    4.7    15308   \n",
       "1        Anker Soundcore mini, Super-Portable Bluetooth...    4.7    98099   \n",
       "2        Echo Dot (5th generation, 2022 release) | Big ...    4.7    15308   \n",
       "3        Echo Dot with clock (5th generation, 2022 rele...    4.7     7205   \n",
       "4        Introducing Echo Pop | Full sound compact Wi-F...    4.6     1881   \n",
       "...                                                    ...    ...      ...   \n",
       "2443646  Motorbike Armour, Motorbike Clothing, Cycling ...    0.0        0   \n",
       "2443647  PROFIRST Waterproof Motorcycle 2 Piece Ladies ...    0.0        0   \n",
       "2443648  Men’s Motorcycle Motorbike Biker Trousers Kevl...    0.0        0   \n",
       "2443649  Texpeed Mens Motorcycle Motorbike Biker Trouse...    4.3      404   \n",
       "2443650  RIDEX CJ223 Motorcycle Motorbike Jacket Armour...    4.5       34   \n",
       "\n",
       "         price  isBestSeller  boughtInLastMonth            category  \n",
       "0        21.99         False                  0      Hi-Fi Speakers  \n",
       "1        23.99          True                  0      Hi-Fi Speakers  \n",
       "2        21.99         False                  0      Hi-Fi Speakers  \n",
       "3        31.99         False                  0      Hi-Fi Speakers  \n",
       "4        17.99         False                  0      Hi-Fi Speakers  \n",
       "...        ...           ...                ...                 ...  \n",
       "2443646  22.34         False                  0  Motorbike Clothing  \n",
       "2443647  97.99         False                  0  Motorbike Clothing  \n",
       "2443648  52.99         False                  0  Motorbike Clothing  \n",
       "2443649  79.99         False                  0  Motorbike Clothing  \n",
       "2443650  53.99         False                  0  Motorbike Clothing  \n",
       "\n",
       "[2443651 rows x 9 columns]"
      ]
     },
     "execution_count": 100,
     "metadata": {},
     "output_type": "execute_result"
    }
   ],
   "source": [
    "import pandas as pd\n",
    "df = pd.read_csv(r\"C:\\Users\\Expertlead Admin\\Downloads\\amz_uk_price_prediction_dataset.csv (1)\\amz_uk_price_prediction_dataset.csv\")\n",
    "df"
   ]
  },
  {
   "cell_type": "code",
   "execution_count": 101,
   "id": "fbdec5bc-6cee-4836-b6fa-63807b434fde",
   "metadata": {},
   "outputs": [
    {
     "data": {
      "text/html": [
       "<div>\n",
       "<style scoped>\n",
       "    .dataframe tbody tr th:only-of-type {\n",
       "        vertical-align: middle;\n",
       "    }\n",
       "\n",
       "    .dataframe tbody tr th {\n",
       "        vertical-align: top;\n",
       "    }\n",
       "\n",
       "    .dataframe thead th {\n",
       "        text-align: right;\n",
       "    }\n",
       "</style>\n",
       "<table border=\"1\" class=\"dataframe\">\n",
       "  <thead>\n",
       "    <tr style=\"text-align: right;\">\n",
       "      <th></th>\n",
       "      <th>uid</th>\n",
       "      <th>asin</th>\n",
       "      <th>title</th>\n",
       "      <th>stars</th>\n",
       "      <th>reviews</th>\n",
       "      <th>price</th>\n",
       "      <th>isBestSeller</th>\n",
       "      <th>boughtInLastMonth</th>\n",
       "      <th>category</th>\n",
       "    </tr>\n",
       "  </thead>\n",
       "  <tbody>\n",
       "    <tr>\n",
       "      <th>0</th>\n",
       "      <td>1</td>\n",
       "      <td>B09B96TG33</td>\n",
       "      <td>Echo Dot (5th generation, 2022 release) | Big ...</td>\n",
       "      <td>4.7</td>\n",
       "      <td>15308</td>\n",
       "      <td>21.99</td>\n",
       "      <td>False</td>\n",
       "      <td>0</td>\n",
       "      <td>Hi-Fi Speakers</td>\n",
       "    </tr>\n",
       "    <tr>\n",
       "      <th>1</th>\n",
       "      <td>2</td>\n",
       "      <td>B01HTH3C8S</td>\n",
       "      <td>Anker Soundcore mini, Super-Portable Bluetooth...</td>\n",
       "      <td>4.7</td>\n",
       "      <td>98099</td>\n",
       "      <td>23.99</td>\n",
       "      <td>True</td>\n",
       "      <td>0</td>\n",
       "      <td>Hi-Fi Speakers</td>\n",
       "    </tr>\n",
       "    <tr>\n",
       "      <th>2</th>\n",
       "      <td>3</td>\n",
       "      <td>B09B8YWXDF</td>\n",
       "      <td>Echo Dot (5th generation, 2022 release) | Big ...</td>\n",
       "      <td>4.7</td>\n",
       "      <td>15308</td>\n",
       "      <td>21.99</td>\n",
       "      <td>False</td>\n",
       "      <td>0</td>\n",
       "      <td>Hi-Fi Speakers</td>\n",
       "    </tr>\n",
       "    <tr>\n",
       "      <th>3</th>\n",
       "      <td>4</td>\n",
       "      <td>B09B8T5VGV</td>\n",
       "      <td>Echo Dot with clock (5th generation, 2022 rele...</td>\n",
       "      <td>4.7</td>\n",
       "      <td>7205</td>\n",
       "      <td>31.99</td>\n",
       "      <td>False</td>\n",
       "      <td>0</td>\n",
       "      <td>Hi-Fi Speakers</td>\n",
       "    </tr>\n",
       "    <tr>\n",
       "      <th>4</th>\n",
       "      <td>5</td>\n",
       "      <td>B09WX6QD65</td>\n",
       "      <td>Introducing Echo Pop | Full sound compact Wi-F...</td>\n",
       "      <td>4.6</td>\n",
       "      <td>1881</td>\n",
       "      <td>17.99</td>\n",
       "      <td>False</td>\n",
       "      <td>0</td>\n",
       "      <td>Hi-Fi Speakers</td>\n",
       "    </tr>\n",
       "  </tbody>\n",
       "</table>\n",
       "</div>"
      ],
      "text/plain": [
       "   uid        asin                                              title  stars  \\\n",
       "0    1  B09B96TG33  Echo Dot (5th generation, 2022 release) | Big ...    4.7   \n",
       "1    2  B01HTH3C8S  Anker Soundcore mini, Super-Portable Bluetooth...    4.7   \n",
       "2    3  B09B8YWXDF  Echo Dot (5th generation, 2022 release) | Big ...    4.7   \n",
       "3    4  B09B8T5VGV  Echo Dot with clock (5th generation, 2022 rele...    4.7   \n",
       "4    5  B09WX6QD65  Introducing Echo Pop | Full sound compact Wi-F...    4.6   \n",
       "\n",
       "   reviews  price  isBestSeller  boughtInLastMonth        category  \n",
       "0    15308  21.99         False                  0  Hi-Fi Speakers  \n",
       "1    98099  23.99          True                  0  Hi-Fi Speakers  \n",
       "2    15308  21.99         False                  0  Hi-Fi Speakers  \n",
       "3     7205  31.99         False                  0  Hi-Fi Speakers  \n",
       "4     1881  17.99         False                  0  Hi-Fi Speakers  "
      ]
     },
     "execution_count": 101,
     "metadata": {},
     "output_type": "execute_result"
    }
   ],
   "source": [
    "# Display the first few rows of the dataset\n",
    "df.head()"
   ]
  },
  {
   "cell_type": "code",
   "execution_count": 102,
   "id": "a7bb2544-4dd6-445d-9035-f4805d611fe4",
   "metadata": {},
   "outputs": [
    {
     "data": {
      "text/plain": [
       "(2443651, 9)"
      ]
     },
     "execution_count": 102,
     "metadata": {},
     "output_type": "execute_result"
    }
   ],
   "source": [
    "# Retrieving the number of rows and columns in the dataframe\n",
    "df.shape"
   ]
  },
  {
   "cell_type": "code",
   "execution_count": 103,
   "id": "6524ab2c-0dfa-4c06-8a82-596eb2bb16b9",
   "metadata": {},
   "outputs": [
    {
     "data": {
      "text/plain": [
       "uid                    int64\n",
       "asin                  object\n",
       "title                 object\n",
       "stars                float64\n",
       "reviews                int64\n",
       "price                float64\n",
       "isBestSeller            bool\n",
       "boughtInLastMonth      int64\n",
       "category              object\n",
       "dtype: object"
      ]
     },
     "execution_count": 103,
     "metadata": {},
     "output_type": "execute_result"
    }
   ],
   "source": [
    "# Displaying the data types of each column in the dataframe\n",
    "df.dtypes"
   ]
  },
  {
   "cell_type": "code",
   "execution_count": 104,
   "id": "1d68093a-8bcc-463f-b8d2-fb6ca0ad4952",
   "metadata": {},
   "outputs": [],
   "source": [
    "#Part1 #1 Frequency Tables:\n",
    "\n",
    "#1.1 Generate a frequency table for the product category.\n",
    "#1.2 Which are the top 5 most listed product categories?\n"
   ]
  },
  {
   "cell_type": "code",
   "execution_count": 105,
   "id": "05c41383-6be1-4180-9a8b-5be4e88be997",
   "metadata": {},
   "outputs": [
    {
     "data": {
      "text/plain": [
       "(category\n",
       " Sports & Outdoors                         836265\n",
       " Beauty                                     19312\n",
       " Handmade Clothing, Shoes & Accessories     19229\n",
       " Bath & Body                                19092\n",
       " Birthday Gifts                             18978\n",
       "                                            ...  \n",
       " Alexa Built-In Devices                       107\n",
       " Motorbike Chassis                            107\n",
       " Plugs                                        107\n",
       " Smart Home Security & Lighting               104\n",
       " Smart Speakers                                54\n",
       " Name: count, Length: 296, dtype: int64,\n",
       " category\n",
       " Sports & Outdoors                         0.342219\n",
       " Beauty                                    0.007903\n",
       " Handmade Clothing, Shoes & Accessories    0.007869\n",
       " Bath & Body                               0.007813\n",
       " Birthday Gifts                            0.007766\n",
       "                                             ...   \n",
       " Alexa Built-In Devices                    0.000044\n",
       " Motorbike Chassis                         0.000044\n",
       " Plugs                                     0.000044\n",
       " Smart Home Security & Lighting            0.000043\n",
       " Smart Speakers                            0.000022\n",
       " Name: proportion, Length: 296, dtype: float64)"
      ]
     },
     "execution_count": 105,
     "metadata": {},
     "output_type": "execute_result"
    }
   ],
   "source": [
    "# Frequency table for 'category'\n",
    "frequency_table = df['category'].value_counts()\n",
    "# Calculating the proportion of each unique value in the 'category'\n",
    "proportion_table = df['category'].value_counts(normalize=True)\n",
    "\n",
    "frequency_table, proportion_table"
   ]
  },
  {
   "cell_type": "code",
   "execution_count": 106,
   "id": "6d4f1c25-bf5c-4963-8f79-48348a066e55",
   "metadata": {},
   "outputs": [
    {
     "name": "stdout",
     "output_type": "stream",
     "text": [
      "Top 5 most listed product categories:\n",
      "category\n",
      "Sports & Outdoors                         836265\n",
      "Beauty                                     19312\n",
      "Handmade Clothing, Shoes & Accessories     19229\n",
      "Bath & Body                                19092\n",
      "Birthday Gifts                             18978\n",
      "Name: count, dtype: int64\n"
     ]
    }
   ],
   "source": [
    "top_categories = df['category'].value_counts().head(5)\n",
    "\n",
    "# Display the result\n",
    "print(\"Top 5 most listed product categories:\")\n",
    "print(top_categories)"
   ]
  },
  {
   "cell_type": "code",
   "execution_count": null,
   "id": "b2a5b23b-cc6e-4466-b15c-8e2da1738ea8",
   "metadata": {},
   "outputs": [],
   "source": []
  },
  {
   "cell_type": "code",
   "execution_count": 107,
   "id": "5289250b-e4ad-4c05-9b7d-ff3fa22cba95",
   "metadata": {},
   "outputs": [],
   "source": [
    "#2 Visualizations:\n",
    "\n",
    "#2.1 Display the distribution of products across different categories using a bar chart. If you face problems understanding the chart, \n",
    "#do it for a subset of top categories."
   ]
  },
  {
   "cell_type": "code",
   "execution_count": 108,
   "id": "2bb2b9a3-05a7-4b1a-a022-defa524c4d97",
   "metadata": {},
   "outputs": [],
   "source": [
    "category_counts = df['category'].value_counts().head()"
   ]
  },
  {
   "cell_type": "code",
   "execution_count": 109,
   "id": "ac1c87d4-059c-4c69-b24e-36aee72febd2",
   "metadata": {},
   "outputs": [
    {
     "data": {
      "text/plain": [
       "category\n",
       "Sports & Outdoors                         836265\n",
       "Beauty                                     19312\n",
       "Handmade Clothing, Shoes & Accessories     19229\n",
       "Bath & Body                                19092\n",
       "Birthday Gifts                             18978\n",
       "Name: count, dtype: int64"
      ]
     },
     "execution_count": 109,
     "metadata": {},
     "output_type": "execute_result"
    }
   ],
   "source": [
    "category_counts"
   ]
  },
  {
   "cell_type": "code",
   "execution_count": 110,
   "id": "be097c0a-ba44-4b76-ba27-2f4c151e21ba",
   "metadata": {},
   "outputs": [
    {
     "name": "stderr",
     "output_type": "stream",
     "text": [
      "C:\\Users\\Expertlead Admin\\AppData\\Local\\Temp\\ipykernel_17236\\2063672452.py:1: FutureWarning: \n",
      "\n",
      "Passing `palette` without assigning `hue` is deprecated and will be removed in v0.14.0. Assign the `x` variable to `hue` and set `legend=False` for the same effect.\n",
      "\n",
      "  category_counts = sns.barplot(x=category_counts.index, y=category_counts.values, palette=\"Set3\")\n"
     ]
    },
    {
     "data": {
      "image/png": "[encoded data removed]",
      "text/plain": [
       "<Figure size 640x480 with 1 Axes>"
      ]
     },
     "metadata": {},
     "output_type": "display_data"
    }
   ],
   "source": [
    "category_counts = sns.barplot(x=category_counts.index, y=category_counts.values, palette=\"Set3\")\n",
    "\n",
    "plt.xticks(rotation = 90)\n",
    "plt.show()"
   ]
  },
  {
   "cell_type": "code",
   "execution_count": null,
   "id": "405922d4-d069-4010-9cbd-7ad4a0cc57e2",
   "metadata": {},
   "outputs": [],
   "source": []
  },
  {
   "cell_type": "code",
   "execution_count": 111,
   "id": "a9f1ec2f-ae86-40b2-948f-0238f3f0adf5",
   "metadata": {},
   "outputs": [],
   "source": [
    "top_category = df['category'].value_counts().head(5)"
   ]
  },
  {
   "cell_type": "code",
   "execution_count": 112,
   "id": "536a53b9-b669-4625-a4cf-7fe3ee28bdde",
   "metadata": {},
   "outputs": [
    {
     "data": {
      "text/plain": [
       "category\n",
       "Sports & Outdoors                         836265\n",
       "Beauty                                     19312\n",
       "Handmade Clothing, Shoes & Accessories     19229\n",
       "Bath & Body                                19092\n",
       "Birthday Gifts                             18978\n",
       "Name: count, dtype: int64"
      ]
     },
     "execution_count": 112,
     "metadata": {},
     "output_type": "execute_result"
    }
   ],
   "source": [
    "top_category"
   ]
  },
  {
   "cell_type": "code",
   "execution_count": null,
   "id": "4782fb1c-4b53-4663-b211-73be3765707f",
   "metadata": {},
   "outputs": [],
   "source": []
  },
  {
   "cell_type": "code",
   "execution_count": 113,
   "id": "fb9b7cac-2979-41d9-96fa-1eacfbc51896",
   "metadata": {},
   "outputs": [
    {
     "data": {
      "image/png": "[encoded data removed]",
      "text/plain": [
       "<Figure size 640x480 with 1 Axes>"
      ]
     },
     "metadata": {},
     "output_type": "display_data"
    }
   ],
   "source": [
    "##2.2 For a subset of top categories, visualize their proportions using a pie chart. Does any category dominate the listings?\n",
    "plt.pie(top_category, labels=top_category.index, autopct='%1.1f%%', startangle=90, colors=sns.color_palette(\"Set3\"))\n",
    "plt.show();\n"
   ]
  },
  {
   "cell_type": "code",
   "execution_count": null,
   "id": "d9a3bb5f-e4f4-4821-a73c-5a799f629cee",
   "metadata": {},
   "outputs": [],
   "source": []
  },
  {
   "cell_type": "code",
   "execution_count": 114,
   "id": "68facfab-ef2a-4eda-b31e-53704ab5dbb9",
   "metadata": {},
   "outputs": [],
   "source": [
    "#Part2 #1 Delving into Product Pricing:\n",
    "\n",
    "\n",
    "#1. Measures of Centrality:\n",
    "#1.1 Calculate the mean, median, and mode for the price of products.\n",
    "#1.2 What's the average price point of products listed? How does this compare with the most common price point (mode)?"
   ]
  },
  {
   "cell_type": "code",
   "execution_count": 116,
   "id": "43364cd1-f47b-4b19-b581-304a5d26d8ec",
   "metadata": {},
   "outputs": [
    {
     "data": {
      "text/plain": [
       "(89.24380943923663, 19.09, 9.99)"
      ]
     },
     "execution_count": 116,
     "metadata": {},
     "output_type": "execute_result"
    }
   ],
   "source": [
    "mean_price = df['price'].mean()\n",
    "median_price = df['price'].median()\n",
    "mode_price = df['price'].mode()[0]\n",
    "\n",
    "mean_price, median_price, mode_price"
   ]
  },
  {
   "cell_type": "code",
   "execution_count": null,
   "id": "52c112e6-38ba-4f37-9a43-fbfec013d39e",
   "metadata": {},
   "outputs": [],
   "source": []
  },
  {
   "cell_type": "code",
   "execution_count": 118,
   "id": "8556d7ec-70ab-46b7-96e0-4dbaff8a0525",
   "metadata": {},
   "outputs": [
    {
     "data": {
      "text/plain": [
       "89.24380943923663"
      ]
     },
     "execution_count": 118,
     "metadata": {},
     "output_type": "execute_result"
    }
   ],
   "source": [
    "#1.2 What's the average price point of products listed? How does this compare with the most common price point (mode)?\n",
    "# Replace 'price' with the actual column name for product prices if different\n",
    "average_price = df['price'].mean()\n",
    "average_price\n"
   ]
  },
  {
   "cell_type": "code",
   "execution_count": 119,
   "id": "6e01919d-f885-41cc-a410-a055453be1b0",
   "metadata": {},
   "outputs": [
    {
     "data": {
      "text/plain": [
       "9.99"
      ]
     },
     "execution_count": 119,
     "metadata": {},
     "output_type": "execute_result"
    }
   ],
   "source": [
    "mode_price = df['price'].mode()[0]  # Mode can return multiple values; take the first\n",
    "mode_price "
   ]
  },
  {
   "cell_type": "code",
   "execution_count": null,
   "id": "21f4c0a5-8903-4834-9712-1aace7e37530",
   "metadata": {},
   "outputs": [],
   "source": [
    "#2 Measures of Dispersion:\n",
    "\n",
    "#2.1 Determine the variance, standard deviation, range, and interquartile range for product price.\n",
    "#2.2 How varied are the product prices? Are there any indicators of a significant spread in prices?"
   ]
  },
  {
   "cell_type": "code",
   "execution_count": 120,
   "id": "eca73388-df30-41ed-b674-e868812fc028",
   "metadata": {},
   "outputs": [
    {
     "data": {
      "text/plain": [
       "(119445.48532256528,\n",
       " 345.60886175352226,\n",
       " 0.0,\n",
       " 100000.0,\n",
       " 100000.0,\n",
       " 0.25     9.99\n",
       " 0.50    19.09\n",
       " 0.75    45.99\n",
       " Name: price, dtype: float64)"
      ]
     },
     "execution_count": 120,
     "metadata": {},
     "output_type": "execute_result"
    }
   ],
   "source": [
    "variance_price = df['price'].var()\n",
    "std_dev_price = df['price'].std()\n",
    "min_price = df['price'].min()\n",
    "max_price = df['price'].max()\n",
    "range_price = max_price - min_price\n",
    "quantiles_price = df['price'].quantile([0.25, 0.5, 0.75])\n",
    "\n",
    "variance_price, std_dev_price, min_price, max_price, range_price, quantiles_price"
   ]
  },
  {
   "cell_type": "code",
   "execution_count": null,
   "id": "5e2854a1-6ee6-48dd-bc8d-b957bf14bbb3",
   "metadata": {},
   "outputs": [],
   "source": [
    "#2.2 How varied are the product prices? Are there any indicators of a significant spread in prices?\n",
    "High variance or standard deviation indicates a wide spread in prices."
   ]
  },
  {
   "cell_type": "code",
   "execution_count": null,
   "id": "e9ced668-3007-40ce-86d1-05bae69d451f",
   "metadata": {},
   "outputs": [],
   "source": []
  },
  {
   "cell_type": "code",
   "execution_count": 138,
   "id": "31f90e7f-182f-4f20-b582-48f86305b0b8",
   "metadata": {},
   "outputs": [
    {
     "data": {
      "image/png": "[encoded data removed]",
      "text/plain": [
       "<Figure size 640x480 with 1 Axes>"
      ]
     },
     "metadata": {},
     "output_type": "display_data"
    }
   ],
   "source": [
    "#3 Visualizations:\n",
    "\n",
    "# 3.1 Is there a specific price range where most products fall? Plot a histogram to visualize the distribution of product prices.\n",
    "#If its hard to read these diagrams, think why this is, and explain how it could be solved..\n",
    "prices = df['price']\n",
    "sns.histplot(df['price'], kde=True, bins=30, color=\"skyblue\")\n",
    "plt.show();"
   ]
  },
  {
   "cell_type": "code",
   "execution_count": null,
   "id": "a487be4a-c9b9-45b9-9c67-33b1546078da",
   "metadata": {},
   "outputs": [],
   "source": []
  },
  {
   "cell_type": "code",
   "execution_count": 127,
   "id": "ded23f9b-b02d-4f76-b17b-109e27b0459a",
   "metadata": {},
   "outputs": [
    {
     "data": {
      "image/png": "[encoded data removed]",
      "text/plain": [
       "<Figure size 640x480 with 1 Axes>"
      ]
     },
     "metadata": {},
     "output_type": "display_data"
    }
   ],
   "source": [
    "#3.2 Are there products that are priced significantly higher than the rest? Use a box plot to showcase the spread and potential\n",
    "#outliers in product pricing.\n",
    "# Plotting a boxplot for the 'SalePrice' column with a light blue color\n",
    "sns.boxplot(data = df['price'], color=\"lightblue\")\n",
    "plt.show();"
   ]
  },
  {
   "cell_type": "code",
   "execution_count": null,
   "id": "eea68379-a2f1-477d-ac41-a710031dd691",
   "metadata": {},
   "outputs": [],
   "source": []
  },
  {
   "cell_type": "code",
   "execution_count": 129,
   "id": "a161bb91-542e-44df-8801-0cc9460bb52c",
   "metadata": {},
   "outputs": [
    {
     "data": {
      "text/plain": [
       "(2.152836472966065, 0.0, 0.0)"
      ]
     },
     "execution_count": 129,
     "metadata": {},
     "output_type": "execute_result"
    }
   ],
   "source": [
    "#Part 3: Unpacking Product Ratings\n",
    "#Business Question: How do customers rate products on Amazon UK, and are there any patterns or tendencies in the ratings?\n",
    "\n",
    "#3. Measures of Centrality:\n",
    "\n",
    "#3.1 Calculate the mean, median, and mode for the rating of products.\n",
    "#3.1.1 How do customers generally rate products? Is there a common trend?\n",
    "ratings = df['stars']\n",
    "# Calculate statistics\n",
    "mean_stars = ratings.mean()\n",
    "median_stars = ratings.median()\n",
    "mode_stars = ratings.mode()[0]  # Use [0] in case there are multiple modes\n",
    "\n",
    "mean_stars, median_stars, mode_stars\n"
   ]
  },
  {
   "cell_type": "code",
   "execution_count": null,
   "id": "88936456-a281-4f2b-8ab7-de3dff73afa2",
   "metadata": {},
   "outputs": [],
   "source": [
    "\n",
    "#3.1.2 How do customers generally rate products? Is there a common trend?\n",
    "#If most bars are clustered around 4.0–5.0, products are generally rated well."
   ]
  },
  {
   "cell_type": "code",
   "execution_count": null,
   "id": "73b56943-9773-44df-bb5e-053d95d77ba7",
   "metadata": {},
   "outputs": [],
   "source": []
  },
  {
   "cell_type": "code",
   "execution_count": 131,
   "id": "85fa87ca-a059-46b2-bfe2-0b81e11c86c5",
   "metadata": {},
   "outputs": [
    {
     "data": {
      "text/plain": [
       "(4.81743402976196,\n",
       " 2.1948653785054697,\n",
       " 0.25    0.0\n",
       " 0.50    0.0\n",
       " 0.75    4.4\n",
       " Name: stars, dtype: float64)"
      ]
     },
     "execution_count": 131,
     "metadata": {},
     "output_type": "execute_result"
    }
   ],
   "source": [
    "#3.2 Measures of Dispersion:\n",
    "\n",
    "#3.2.1 Determine the variance, standard deviation, and interquartile range for product rating.\n",
    "#3.2.1 Are the ratings consistent, or is there a wide variation in customer feedback?\n",
    "\n",
    "variance_rating = df['stars'].var()\n",
    "std_dev_rating  = df['stars'].std()\n",
    "quantiles_rating  = df['stars'].quantile([0.25, 0.5, 0.75])\n",
    "\n",
    "variance_rating, std_dev_rating, quantiles_rating"
   ]
  },
  {
   "cell_type": "code",
   "execution_count": null,
   "id": "31552861-fb70-4a2f-ad84-edfbbe91ed8f",
   "metadata": {},
   "outputs": [],
   "source": [
    "#3.2.1 Are the ratings consistent, or is there a wide variation in customer feedback?\n",
    "#A standard deviation of ~0.5–0.6 on a 5-point scale is relatively low, indicating that\n",
    "#most ratings are close to the mean.\n",
    "#A low variance confirms there's not much fluctuation in ratings."
   ]
  },
  {
   "cell_type": "code",
   "execution_count": null,
   "id": "1d2a4d23-3622-4961-a102-7172f63aada1",
   "metadata": {},
   "outputs": [],
   "source": []
  },
  {
   "cell_type": "code",
   "execution_count": 133,
   "id": "4a97bdcc-b662-4760-a844-e40ecab60b34",
   "metadata": {},
   "outputs": [
    {
     "data": {
      "text/plain": [
       "(0.08120735761080985, -1.9260061280432985)"
      ]
     },
     "execution_count": 133,
     "metadata": {},
     "output_type": "execute_result"
    }
   ],
   "source": [
    "#3.3 Shape of the Distribution:\n",
    "\n",
    "#3.3.1 Calculate the skewness and kurtosis for the rating column.\n",
    "#3.3.2 Are the ratings normally distributed, or do they lean towards higher or lower values?\n",
    "skewness_rating = df['stars'].skew()\n",
    "kurtosis_rating = df['stars'].kurtosis()\n",
    "\n",
    "skewness_rating, kurtosis_rating\n"
   ]
  },
  {
   "cell_type": "code",
   "execution_count": null,
   "id": "7778d8aa-4e63-4f01-8ab4-a41bfe7d5436",
   "metadata": {},
   "outputs": [],
   "source": [
    "#3.3.2 Are the ratings normally distributed, or do they lean towards higher or lower values?\n",
    "If skewness > 0, the distribution is right-skewed (leaning toward higher ratings).\n",
    "#means the ratings normally distributed is leaning toward higher ratings.\n"
   ]
  },
  {
   "cell_type": "code",
   "execution_count": 137,
   "id": "4f948548-a6b3-47c8-a738-7223158c3e9f",
   "metadata": {},
   "outputs": [
    {
     "data": {
      "image/png": "[encoded data removed]",
      "text/plain": [
       "<Figure size 640x480 with 1 Axes>"
      ]
     },
     "metadata": {},
     "output_type": "display_data"
    }
   ],
   "source": [
    "#4 Visualizations:\n",
    "\n",
    "#Plot a histogram to visualize the distribution of product ratings. Is there a specific rating that is more common?\n",
    "rating = df['stars']\n",
    "sns.histplot(df['stars'], kde=True, bins=30, color=\"skyblue\")\n",
    "plt.show();"
   ]
  },
  {
   "cell_type": "code",
   "execution_count": null,
   "id": "1f93f8f8-cb20-4a7a-bc6d-f74d0b6ac3ad",
   "metadata": {},
   "outputs": [],
   "source": []
  },
  {
   "cell_type": "code",
   "execution_count": null,
   "id": "c5a33bfb-f44a-42c1-b1a6-dd3e3e4e3b00",
   "metadata": {},
   "outputs": [],
   "source": []
  }
 ],
 "metadata": {
  "kernelspec": {
   "display_name": "Python 3 (ipykernel)",
   "language": "python",
   "name": "python3"
  },
  "language_info": {
   "codemirror_mode": {
    "name": "ipython",
    "version": 3
   },
   "file_extension": ".py",
   "mimetype": "text/x-python",
   "name": "python",
   "nbconvert_exporter": "python",
   "pygments_lexer": "ipython3",
   "version": "3.12.7"
  }
 },
 "nbformat": 4,
 "nbformat_minor": 5
}
